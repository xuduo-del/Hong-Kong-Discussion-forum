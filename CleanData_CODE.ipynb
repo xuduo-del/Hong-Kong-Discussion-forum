{
 "cells": [
  {
   "cell_type": "code",
   "execution_count": null,
   "metadata": {},
   "outputs": [],
   "source": [
    "import pandas as pd\n",
    "import os\n",
    "# Set input and output folder paths\n",
    "input_folder = (r'/Users/z/Desktop/row data1-24')  \n",
    "\n",
    "# Get all Excel file paths in a folder\n",
    "file_paths = [os.path.join(input_folder, f) for f in os.listdir(input_folder) if f.endswith('.csv')]\n",
    "\n",
    "# Read and merge all files\n",
    "dfs = [pd.read_excel(file_path) for file_path in file_paths]\n",
    "df = pd.concat(dfs, ignore_index=True)"
   ]
  },
  {
   "cell_type": "code",
   "execution_count": null,
   "metadata": {},
   "outputs": [],
   "source": [
    "df.head()"
   ]
  },
  {
   "cell_type": "code",
   "execution_count": null,
   "metadata": {},
   "outputs": [],
   "source": [
    "#analysis original dataset situations\n",
    "df.info()"
   ]
  },
  {
   "cell_type": "code",
   "execution_count": null,
   "metadata": {},
   "outputs": [],
   "source": [
    "#Data cleaning process\n",
    "import pandas as pd\n",
    "import os\n",
    "import re #Import regular expression module\n",
    "\n",
    "df = pd.read_csv('/Users/z/Desktop/Original Dataset.csv')\n",
    "\n",
    "# 1.Delete the first column\n",
    "df = df.iloc[:, 1:]\n",
    "\n",
    "# 2. Remove brackets from date columns and standardize date format\n",
    "df['post_time'] = pd.to_datetime(df['post_time'].str.replace(r\"[()]\", \"\", regex=True), errors='coerce', format='%Y-%m-%d')\n",
    "df['last_published_date'] = pd.to_datetime(df['last_published_date'].str.replace(r\"[()]\", \"\", regex=True), errors='coerce', format='%Y-%m-%d')\n",
    "\n",
    "# 3. Split the 'Reply/View' column into 'Reply' and 'View' columns\n",
    "if 'replies counts/views' in df.columns:\n",
    "    df[['replies counts', 'views']] = df['replies counts/views'].str.split('/', expand=True)\n",
    "    df = df.drop(columns=['replies counts/views'])\n",
    "\n",
    "# 4. Remove extra spaces in string fields\n",
    "df = df.applymap(lambda x: x.strip() if isinstance(x, str) else x)\n",
    "\n",
    "# 5.Remove duplicate rows where both \"title\" and \"url\" columns are the same,keeping the first occurrence of the record\n",
    "df.drop_duplicates(subset=['title', 'url'], keep='first', inplace=True)\n",
    "\n",
    "# Get the number of results after cleaning\n",
    "result_count = len(df)\n",
    "\n",
    "# Build the file name of the saved file \n",
    "filename = f\"Clean Data_{result_count}.csv\"  \n",
    "save_path = os.path.join(\"/Users/z/Desktop\", filename)\n",
    "\n",
    "# 6.Save the new clean tables\n",
    "df.to_csv(save_path, index=False, encoding=\"utf-8\")\n",
    "print(f'Data final cleaned and saved: {save_path}')"
   ]
  }
 ],
 "metadata": {
  "kernelspec": {
   "display_name": "Python 3",
   "language": "python",
   "name": "python3"
  },
  "language_info": {
   "codemirror_mode": {
    "name": "ipython",
    "version": 3
   },
   "file_extension": ".py",
   "mimetype": "text/x-python",
   "name": "python",
   "nbconvert_exporter": "python",
   "pygments_lexer": "ipython3",
   "version": "3.12.6"
  }
 },
 "nbformat": 4,
 "nbformat_minor": 2
}
